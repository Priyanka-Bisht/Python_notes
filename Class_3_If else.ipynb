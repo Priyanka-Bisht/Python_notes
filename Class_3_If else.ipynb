{
 "cells": [
  {
   "cell_type": "code",
   "execution_count": 1,
   "id": "05df9fd3",
   "metadata": {},
   "outputs": [],
   "source": [
    "a = 10\n",
    "if a == 11 :\n",
    "    print(\"This is my first condition\")"
   ]
  },
  {
   "cell_type": "code",
   "execution_count": 2,
   "id": "067b1e22",
   "metadata": {},
   "outputs": [],
   "source": [
    "a = 10\n",
    "if a > 5:\n",
    "    pass"
   ]
  },
  {
   "cell_type": "code",
   "execution_count": 3,
   "id": "347c86a5",
   "metadata": {},
   "outputs": [
    {
     "name": "stdout",
     "output_type": "stream",
     "text": [
      "condition is true\n"
     ]
    }
   ],
   "source": [
    "a = 10\n",
    "if a > 8:\n",
    "    print(\"condition is true\")"
   ]
  },
  {
   "cell_type": "code",
   "execution_count": 5,
   "id": "f6d301a0",
   "metadata": {},
   "outputs": [
    {
     "name": "stdout",
     "output_type": "stream",
     "text": [
      "print this\n"
     ]
    }
   ],
   "source": [
    "a = 10\n",
    "if a== 11:\n",
    "     print(\"condition is false\")\n",
    "else:\n",
    "    print(\"print this\")"
   ]
  },
  {
   "cell_type": "code",
   "execution_count": 6,
   "id": "507b14fb",
   "metadata": {},
   "outputs": [
    {
     "name": "stdout",
     "output_type": "stream",
     "text": [
      "finally it is a last compare\n"
     ]
    }
   ],
   "source": [
    "a = 10\n",
    "if a == 12:\n",
    "    print(\"here we are trying to compare condition\")\n",
    "elif a == 11:\n",
    "    print(\"we are trying to compare this condition\")\n",
    "else:\n",
    "    print(\"finally it is a last compare\")"
   ]
  },
  {
   "cell_type": "code",
   "execution_count": 10,
   "id": "8a429eb7",
   "metadata": {},
   "outputs": [
    {
     "name": "stdout",
     "output_type": "stream",
     "text": [
      "definatly i am gonna buy this jacket\n"
     ]
    }
   ],
   "source": [
    "price = 500\n",
    "if price > 500:\n",
    "    print(\"i won't be able to buy a jacket\")\n",
    "elif price < 500:\n",
    "    print(\"i will be able to buy a jacket\")\n",
    "elif price == 500:\n",
    "    print(\"definatly i am gonna buy this jacket\")\n",
    "else:\n",
    "    print(\"i don't know\")"
   ]
  },
  {
   "cell_type": "code",
   "execution_count": 11,
   "id": "bd1ec5fb",
   "metadata": {},
   "outputs": [
    {
     "data": {
      "text/plain": [
       "True"
      ]
     },
     "execution_count": 11,
     "metadata": {},
     "output_type": "execute_result"
    }
   ],
   "source": [
    "l = [1,2,3,4,5,6]\n",
    "2 in l"
   ]
  },
  {
   "cell_type": "code",
   "execution_count": 13,
   "id": "13abbc77",
   "metadata": {},
   "outputs": [
    {
     "name": "stdout",
     "output_type": "stream",
     "text": [
      "try to perform this task\n"
     ]
    }
   ],
   "source": [
    "if 2 in l:\n",
    "    print(\"try to perform this task\")\n",
    "else:\n",
    "    print(\"do not perform this task\")"
   ]
  },
  {
   "cell_type": "code",
   "execution_count": 16,
   "id": "b4953940",
   "metadata": {},
   "outputs": [
    {
     "name": "stdout",
     "output_type": "stream",
     "text": [
      "do sub\n",
      "this is new statement\n"
     ]
    }
   ],
   "source": [
    "if 10 in l:\n",
    "    print(\"addition\")\n",
    "elif 2 in l:\n",
    "    print(\"do sub\")\n",
    "else:\n",
    "    print(\"multi\")\n",
    "if 4 in l:\n",
    "    print(\"this is new statement\")"
   ]
  },
  {
   "cell_type": "code",
   "execution_count": 17,
   "id": "d5db2475",
   "metadata": {},
   "outputs": [],
   "source": [
    "a = 400"
   ]
  },
  {
   "cell_type": "code",
   "execution_count": 18,
   "id": "b7914610",
   "metadata": {},
   "outputs": [
    {
     "name": "stdout",
     "output_type": "stream",
     "text": [
      "pink\n"
     ]
    }
   ],
   "source": [
    "b = input()"
   ]
  },
  {
   "cell_type": "code",
   "execution_count": 3,
   "id": "d99be848",
   "metadata": {},
   "outputs": [
    {
     "name": "stdout",
     "output_type": "stream",
     "text": [
      "660\n",
      "i wont be able to buy anything with this price tag\n",
      "let's try to do something else\n"
     ]
    }
   ],
   "source": [
    "price = int(input())\n",
    "if  price< 500:\n",
    "    print(\"i will be able to buy something\")\n",
    "    if price < 400:\n",
    "        print(\"i will be able to buy a jacket \")\n",
    "    elif price < 300:\n",
    "        print(\"i will be able to buy a shirt\")\n",
    "    else:\n",
    "        print(\"i wont be able to buy anything\")\n",
    "else:\n",
    "    print(\"i wont be able to buy anything with this price tag\")\n",
    "    if price > 500:\n",
    "        print(\"let's try to do something else\")"
   ]
  },
  {
   "cell_type": "code",
   "execution_count": 5,
   "id": "91f9dd27",
   "metadata": {},
   "outputs": [
    {
     "name": "stdout",
     "output_type": "stream",
     "text": [
      "300\n",
      "No GRE\n",
      "Fail\n",
      "try something else\n"
     ]
    }
   ],
   "source": [
    "marks = int(input())\n",
    "if marks < 600:\n",
    "    print('No GRE')\n",
    "    if marks < 500:\n",
    "        print(\"Fail\")\n",
    "        if marks < 400:\n",
    "            print(\"try something else\")\n",
    "    else:\n",
    "        print(\"oops fail\")\n",
    "else:\n",
    "    print(\"got selected\")\n",
    "    "
   ]
  },
  {
   "cell_type": "code",
   "execution_count": 7,
   "id": "44df0965",
   "metadata": {},
   "outputs": [
    {
     "name": "stdout",
     "output_type": "stream",
     "text": [
      "enter a floating number345\n",
      "entered value is a positive number\n"
     ]
    }
   ],
   "source": [
    "val = float(input(\"enter a floating number\"))\n",
    "if val >= 0:\n",
    "    if val == 0:\n",
    "        print(\"entered value is zero\")\n",
    "    else:\n",
    "        print(\"entered value is a positive number\")\n",
    "else:\n",
    "    print(\"entered numbet is a negative number\")"
   ]
  },
  {
   "cell_type": "code",
   "execution_count": 5,
   "id": "306655e3",
   "metadata": {},
   "outputs": [],
   "source": [
    "a = 10\n",
    "if a < 10 and a == 10:\n",
    "    print(\"try to do something\")"
   ]
  },
  {
   "cell_type": "code",
   "execution_count": 8,
   "id": "65a5ebb6",
   "metadata": {},
   "outputs": [
    {
     "name": "stdout",
     "output_type": "stream",
     "text": [
      "this is pink\n"
     ]
    }
   ],
   "source": [
    "a = \"pink\"\n",
    "if a == \"pink\" or a == \"Pink\":\n",
    "    print(\"this is pink\")"
   ]
  },
  {
   "cell_type": "code",
   "execution_count": 10,
   "id": "4ca6c226",
   "metadata": {},
   "outputs": [
    {
     "name": "stdout",
     "output_type": "stream",
     "text": [
      "lets do something\n"
     ]
    }
   ],
   "source": [
    "a = 10\n",
    "b = 11\n",
    "c = 12\n",
    "d = 13\n",
    "if a == 9 or b == 11 and c == 12 and d == 13:\n",
    "    print(\"lets do something\")"
   ]
  },
  {
   "cell_type": "code",
   "execution_count": 12,
   "id": "2acae03b",
   "metadata": {},
   "outputs": [],
   "source": [
    "d = {\"key1\":\"value1\",\"key2\":\"value2\",\"key3\":\"value3\"}"
   ]
  },
  {
   "cell_type": "code",
   "execution_count": 14,
   "id": "c68cf44b",
   "metadata": {},
   "outputs": [
    {
     "name": "stdout",
     "output_type": "stream",
     "text": [
      "all value\n",
      "dict_values(['value1', 'value2', 'value3'])\n"
     ]
    }
   ],
   "source": [
    "if d[\"key1\"] == \"value1\" and d[\"key2\"] == \"value2\" and d[\"key3\"] == \"value3\":\n",
    "    print(\"all value\")\n",
    "    print(d.values())\n",
    "else:\n",
    "    print(\"all the values are not verified\")"
   ]
  },
  {
   "cell_type": "code",
   "execution_count": 15,
   "id": "abf1b948",
   "metadata": {},
   "outputs": [],
   "source": [
    "l = [1,2,3,4,\"pink\",1425.36]"
   ]
  },
  {
   "cell_type": "markdown",
   "id": "2d51ed9d",
   "metadata": {},
   "source": [
    "LOOP"
   ]
  },
  {
   "cell_type": "code",
   "execution_count": 16,
   "id": "acbb36c2",
   "metadata": {},
   "outputs": [
    {
     "name": "stdout",
     "output_type": "stream",
     "text": [
      "1\n",
      "2\n",
      "3\n",
      "4\n",
      "pink\n",
      "1425.36\n"
     ]
    }
   ],
   "source": [
    "for i in l:\n",
    "    print(i)"
   ]
  },
  {
   "cell_type": "code",
   "execution_count": 17,
   "id": "162f2ff2",
   "metadata": {},
   "outputs": [
    {
     "name": "stdout",
     "output_type": "stream",
     "text": [
      "2\n",
      "3\n",
      "4\n",
      "5\n"
     ]
    },
    {
     "ename": "TypeError",
     "evalue": "can only concatenate str (not \"int\") to str",
     "output_type": "error",
     "traceback": [
      "\u001b[1;31m---------------------------------------------------------------------------\u001b[0m",
      "\u001b[1;31mTypeError\u001b[0m                                 Traceback (most recent call last)",
      "\u001b[1;32m<ipython-input-17-8840afee3391>\u001b[0m in \u001b[0;36m<module>\u001b[1;34m\u001b[0m\n\u001b[0;32m      1\u001b[0m \u001b[1;32mfor\u001b[0m \u001b[0mi\u001b[0m \u001b[1;32min\u001b[0m \u001b[0ml\u001b[0m\u001b[1;33m:\u001b[0m\u001b[1;33m\u001b[0m\u001b[1;33m\u001b[0m\u001b[0m\n\u001b[1;32m----> 2\u001b[1;33m     \u001b[0mprint\u001b[0m\u001b[1;33m(\u001b[0m\u001b[0mi\u001b[0m\u001b[1;33m+\u001b[0m\u001b[1;36m1\u001b[0m\u001b[1;33m)\u001b[0m\u001b[1;33m\u001b[0m\u001b[1;33m\u001b[0m\u001b[0m\n\u001b[0m",
      "\u001b[1;31mTypeError\u001b[0m: can only concatenate str (not \"int\") to str"
     ]
    }
   ],
   "source": [
    "for i in l:\n",
    "    print(i+1)"
   ]
  },
  {
   "cell_type": "code",
   "execution_count": 19,
   "id": "f49c81df",
   "metadata": {},
   "outputs": [
    {
     "name": "stdout",
     "output_type": "stream",
     "text": [
      "2\n",
      "3\n",
      "4\n",
      "5\n",
      "pink1\n",
      "1426.36\n"
     ]
    }
   ],
   "source": [
    "for i in l:\n",
    "    if type(i) == int or type(i) == float:\n",
    "        print(i+1)\n",
    "    elif type(i) == str:\n",
    "        print(i + str(1))"
   ]
  },
  {
   "cell_type": "code",
   "execution_count": null,
   "id": "8dd70ab3",
   "metadata": {},
   "outputs": [],
   "source": []
  }
 ],
 "metadata": {
  "kernelspec": {
   "display_name": "Python 3",
   "language": "python",
   "name": "python3"
  },
  "language_info": {
   "codemirror_mode": {
    "name": "ipython",
    "version": 3
   },
   "file_extension": ".py",
   "mimetype": "text/x-python",
   "name": "python",
   "nbconvert_exporter": "python",
   "pygments_lexer": "ipython3",
   "version": "3.8.8"
  }
 },
 "nbformat": 4,
 "nbformat_minor": 5
}
