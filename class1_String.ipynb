{
 "cells": [
  {
   "cell_type": "code",
   "execution_count": 1,
   "id": "2f5f310d",
   "metadata": {},
   "outputs": [
    {
     "data": {
      "text/plain": [
       "''"
      ]
     },
     "execution_count": 1,
     "metadata": {},
     "output_type": "execute_result"
    }
   ],
   "source": [
    "s = 'sudhanshu'\n",
    "s[0:8:-1]"
   ]
  },
  {
   "cell_type": "code",
   "execution_count": 3,
   "id": "6cf94344",
   "metadata": {},
   "outputs": [
    {
     "data": {
      "text/plain": [
       "'uhsnahdus'"
      ]
     },
     "execution_count": 3,
     "metadata": {},
     "output_type": "execute_result"
    }
   ],
   "source": [
    "s[8::-1]"
   ]
  },
  {
   "cell_type": "code",
   "execution_count": 5,
   "id": "9d84fdc2",
   "metadata": {},
   "outputs": [
    {
     "data": {
      "text/plain": [
       "'usad'"
      ]
     },
     "execution_count": 5,
     "metadata": {},
     "output_type": "execute_result"
    }
   ],
   "source": [
    "s[8:0:-2]"
   ]
  },
  {
   "cell_type": "code",
   "execution_count": 6,
   "id": "a561a296",
   "metadata": {},
   "outputs": [
    {
     "data": {
      "text/plain": [
       "'sudhan'"
      ]
     },
     "execution_count": 6,
     "metadata": {},
     "output_type": "execute_result"
    }
   ],
   "source": [
    "s[:-3]"
   ]
  },
  {
   "cell_type": "code",
   "execution_count": 7,
   "id": "b2c974c8",
   "metadata": {},
   "outputs": [
    {
     "data": {
      "text/plain": [
       "'hu'"
      ]
     },
     "execution_count": 7,
     "metadata": {},
     "output_type": "execute_result"
    }
   ],
   "source": [
    "s[-2:]"
   ]
  },
  {
   "cell_type": "code",
   "execution_count": 8,
   "id": "69562e2b",
   "metadata": {},
   "outputs": [
    {
     "data": {
      "text/plain": [
       "'sudhanshu'"
      ]
     },
     "execution_count": 8,
     "metadata": {},
     "output_type": "execute_result"
    }
   ],
   "source": [
    "s[::1]"
   ]
  },
  {
   "cell_type": "code",
   "execution_count": 9,
   "id": "592a6763",
   "metadata": {},
   "outputs": [
    {
     "data": {
      "text/plain": [
       "'uhsnahdus'"
      ]
     },
     "execution_count": 9,
     "metadata": {},
     "output_type": "execute_result"
    }
   ],
   "source": [
    "s[::-1]"
   ]
  },
  {
   "cell_type": "code",
   "execution_count": 10,
   "id": "a1ccbb4e",
   "metadata": {},
   "outputs": [
    {
     "data": {
      "text/plain": [
       "'norueni'"
      ]
     },
     "execution_count": 10,
     "metadata": {},
     "output_type": "execute_result"
    }
   ],
   "source": [
    "s3='ineuron'\n",
    "s3[::-1]"
   ]
  },
  {
   "cell_type": "code",
   "execution_count": 12,
   "id": "ed715e4b",
   "metadata": {},
   "outputs": [
    {
     "data": {
      "text/plain": [
       "''"
      ]
     },
     "execution_count": 12,
     "metadata": {},
     "output_type": "execute_result"
    }
   ],
   "source": [
    "s3[-2:-7:1]"
   ]
  },
  {
   "cell_type": "code",
   "execution_count": null,
   "id": "39fdead6",
   "metadata": {},
   "outputs": [],
   "source": []
  },
  {
   "cell_type": "code",
   "execution_count": 34,
   "id": "6a5196ff",
   "metadata": {},
   "outputs": [
    {
     "data": {
      "text/plain": [
       "'ineuro'"
      ]
     },
     "execution_count": 34,
     "metadata": {},
     "output_type": "execute_result"
    }
   ],
   "source": [
    "s3[-7:-1:1]"
   ]
  },
  {
   "cell_type": "code",
   "execution_count": 35,
   "id": "03654494",
   "metadata": {},
   "outputs": [
    {
     "data": {
      "text/plain": [
       "''"
      ]
     },
     "execution_count": 35,
     "metadata": {},
     "output_type": "execute_result"
    }
   ],
   "source": [
    "s3[-7:0:1]"
   ]
  },
  {
   "cell_type": "code",
   "execution_count": 40,
   "id": "6e2f5db5",
   "metadata": {},
   "outputs": [
    {
     "data": {
      "text/plain": [
       "'ineuron'"
      ]
     },
     "execution_count": 40,
     "metadata": {},
     "output_type": "execute_result"
    }
   ],
   "source": [
    "s3[-7::1]"
   ]
  },
  {
   "cell_type": "code",
   "execution_count": 44,
   "id": "4263f924",
   "metadata": {},
   "outputs": [
    {
     "data": {
      "text/plain": [
       "'ineuron'"
      ]
     },
     "execution_count": 44,
     "metadata": {},
     "output_type": "execute_result"
    }
   ],
   "source": [
    "s3[-7:7:1]"
   ]
  },
  {
   "cell_type": "code",
   "execution_count": 18,
   "id": "b8a0a121",
   "metadata": {},
   "outputs": [
    {
     "data": {
      "text/plain": [
       "9"
      ]
     },
     "execution_count": 18,
     "metadata": {},
     "output_type": "execute_result"
    }
   ],
   "source": [
    "len(s)"
   ]
  },
  {
   "cell_type": "code",
   "execution_count": 19,
   "id": "80d18f4f",
   "metadata": {},
   "outputs": [
    {
     "data": {
      "text/plain": [
       "'priyanka'"
      ]
     },
     "execution_count": 19,
     "metadata": {},
     "output_type": "execute_result"
    }
   ],
   "source": [
    "\"priya\"+\"nka\""
   ]
  },
  {
   "cell_type": "code",
   "execution_count": 20,
   "id": "a96f1a8c",
   "metadata": {},
   "outputs": [
    {
     "data": {
      "text/plain": [
       "'sudhanshusudhanshu'"
      ]
     },
     "execution_count": 20,
     "metadata": {},
     "output_type": "execute_result"
    }
   ],
   "source": [
    "s*2"
   ]
  },
  {
   "cell_type": "code",
   "execution_count": 23,
   "id": "05000d7b",
   "metadata": {},
   "outputs": [
    {
     "data": {
      "text/plain": [
       "0"
      ]
     },
     "execution_count": 23,
     "metadata": {},
     "output_type": "execute_result"
    }
   ],
   "source": [
    "s.count('sum')"
   ]
  },
  {
   "cell_type": "code",
   "execution_count": 24,
   "id": "d6e75074",
   "metadata": {},
   "outputs": [
    {
     "data": {
      "text/plain": [
       "['s', 'dhansh', '']"
      ]
     },
     "execution_count": 24,
     "metadata": {},
     "output_type": "execute_result"
    }
   ],
   "source": [
    "s.split('u')"
   ]
  },
  {
   "cell_type": "code",
   "execution_count": 28,
   "id": "a71ba124",
   "metadata": {},
   "outputs": [],
   "source": [
    "a='''This approach has garnered many adherents, though also its fair share of criticism. One of the things that is potentially a roadblock for uptake of DevOps in the \n",
    "enterprise has been the internal culture of many organizations. With so many new ideas and tools out there, it \n",
    "can feel like your company doesn’t get it at all, and even perhaps fears DevOps.'''"
   ]
  },
  {
   "cell_type": "code",
   "execution_count": 29,
   "id": "d4ad6f01",
   "metadata": {},
   "outputs": [
    {
     "data": {
      "text/plain": [
       "['This',\n",
       " 'approach',\n",
       " 'has',\n",
       " 'garnered',\n",
       " 'many',\n",
       " 'adherents,',\n",
       " 'though',\n",
       " 'also',\n",
       " 'its',\n",
       " 'fair',\n",
       " 'share',\n",
       " 'of',\n",
       " 'criticism.',\n",
       " 'One',\n",
       " 'of',\n",
       " 'the',\n",
       " 'things',\n",
       " 'that',\n",
       " 'is',\n",
       " 'potentially',\n",
       " 'a',\n",
       " 'roadblock',\n",
       " 'for',\n",
       " 'uptake',\n",
       " 'of',\n",
       " 'DevOps',\n",
       " 'in',\n",
       " 'the',\n",
       " '\\nenterprise',\n",
       " 'has',\n",
       " 'been',\n",
       " 'the',\n",
       " 'internal',\n",
       " 'culture',\n",
       " 'of',\n",
       " 'many',\n",
       " 'organizations.',\n",
       " 'With',\n",
       " 'so',\n",
       " 'many',\n",
       " 'new',\n",
       " 'ideas',\n",
       " 'and',\n",
       " 'tools',\n",
       " 'out',\n",
       " 'there,',\n",
       " 'it',\n",
       " '\\ncan',\n",
       " 'feel',\n",
       " 'like',\n",
       " 'your',\n",
       " 'company',\n",
       " 'doesn’t',\n",
       " 'get',\n",
       " 'it',\n",
       " 'at',\n",
       " 'all,',\n",
       " 'and',\n",
       " 'even',\n",
       " 'perhaps',\n",
       " 'fears',\n",
       " 'DevOps.']"
      ]
     },
     "execution_count": 29,
     "metadata": {},
     "output_type": "execute_result"
    }
   ],
   "source": [
    "a.split(' ')"
   ]
  },
  {
   "cell_type": "code",
   "execution_count": 31,
   "id": "b0e370d6",
   "metadata": {},
   "outputs": [
    {
     "data": {
      "text/plain": [
       "'THIS APPROACH HAS GARNERED MANY ADHERENTS, THOUGH ALSO ITS FAIR SHARE OF CRITICISM. ONE OF THE THINGS THAT IS POTENTIALLY A ROADBLOCK FOR UPTAKE OF DEVOPS IN THE \\nENTERPRISE HAS BEEN THE INTERNAL CULTURE OF MANY ORGANIZATIONS. WITH SO MANY NEW IDEAS AND TOOLS OUT THERE, IT \\nCAN FEEL LIKE YOUR COMPANY DOESN’T GET IT AT ALL, AND EVEN PERHAPS FEARS DEVOPS.'"
      ]
     },
     "execution_count": 31,
     "metadata": {},
     "output_type": "execute_result"
    }
   ],
   "source": [
    "a.upper()"
   ]
  },
  {
   "cell_type": "code",
   "execution_count": 32,
   "id": "ff890a9f",
   "metadata": {},
   "outputs": [
    {
     "data": {
      "text/plain": [
       "'this approach has garnered many adherents, though also its fair share of criticism. one of the things that is potentially a roadblock for uptake of devops in the \\nenterprise has been the internal culture of many organizations. with so many new ideas and tools out there, it \\ncan feel like your company doesn’t get it at all, and even perhaps fears devops.'"
      ]
     },
     "execution_count": 32,
     "metadata": {},
     "output_type": "execute_result"
    }
   ],
   "source": [
    "a.lower()"
   ]
  },
  {
   "cell_type": "code",
   "execution_count": 45,
   "id": "2fa25fed",
   "metadata": {},
   "outputs": [
    {
     "data": {
      "text/plain": [
       "'pink'"
      ]
     },
     "execution_count": 45,
     "metadata": {},
     "output_type": "execute_result"
    }
   ],
   "source": [
    "s = \"        pink       \"\n",
    "s.strip()"
   ]
  },
  {
   "cell_type": "code",
   "execution_count": 46,
   "id": "22a1dcc8",
   "metadata": {},
   "outputs": [
    {
     "data": {
      "text/plain": [
       "'vin n'"
      ]
     },
     "execution_count": 46,
     "metadata": {},
     "output_type": "execute_result"
    }
   ],
   "source": [
    "s = \"  vin n  \"\n",
    "s.strip()"
   ]
  },
  {
   "cell_type": "code",
   "execution_count": 47,
   "id": "5eb34371",
   "metadata": {},
   "outputs": [
    {
     "data": {
      "text/plain": [
       "'pink'"
      ]
     },
     "execution_count": 47,
     "metadata": {},
     "output_type": "execute_result"
    }
   ],
   "source": [
    "s = \"pink     \"\n",
    "s.rstrip()"
   ]
  },
  {
   "cell_type": "code",
   "execution_count": 49,
   "id": "bd7c4bc0",
   "metadata": {},
   "outputs": [
    {
     "data": {
      "text/plain": [
       "'p+r+i+y+a+n+k+a'"
      ]
     },
     "execution_count": 49,
     "metadata": {},
     "output_type": "execute_result"
    }
   ],
   "source": [
    "\"+\".join(\"priyanka\")"
   ]
  },
  {
   "cell_type": "code",
   "execution_count": 51,
   "id": "f49ac434",
   "metadata": {},
   "outputs": [
    {
     "data": {
      "text/plain": [
       "'vvvvvpink     vvvvvv'"
      ]
     },
     "execution_count": 51,
     "metadata": {},
     "output_type": "execute_result"
    }
   ],
   "source": [
    "s.center(20 ,'v')"
   ]
  },
  {
   "cell_type": "code",
   "execution_count": 53,
   "id": "d3124fe0",
   "metadata": {},
   "outputs": [
    {
     "data": {
      "text/plain": [
       "True"
      ]
     },
     "execution_count": 53,
     "metadata": {},
     "output_type": "execute_result"
    }
   ],
   "source": [
    "s = 'priyanka'\n",
    "s.islower()"
   ]
  },
  {
   "cell_type": "code",
   "execution_count": 55,
   "id": "8f38c6f2",
   "metadata": {},
   "outputs": [
    {
     "data": {
      "text/plain": [
       "True"
      ]
     },
     "execution_count": 55,
     "metadata": {},
     "output_type": "execute_result"
    }
   ],
   "source": [
    "s = '  '\n",
    "s.isspace()"
   ]
  },
  {
   "cell_type": "code",
   "execution_count": 56,
   "id": "ac43b6f6",
   "metadata": {},
   "outputs": [
    {
     "data": {
      "text/plain": [
       "False"
      ]
     },
     "execution_count": 56,
     "metadata": {},
     "output_type": "execute_result"
    }
   ],
   "source": [
    "s.isdigit()"
   ]
  },
  {
   "cell_type": "code",
   "execution_count": 57,
   "id": "321ed1c9",
   "metadata": {},
   "outputs": [
    {
     "data": {
      "text/plain": [
       "False"
      ]
     },
     "execution_count": 57,
     "metadata": {},
     "output_type": "execute_result"
    }
   ],
   "source": [
    "s.isalnum()"
   ]
  },
  {
   "cell_type": "code",
   "execution_count": 58,
   "id": "83661937",
   "metadata": {},
   "outputs": [
    {
     "data": {
      "text/plain": [
       "'  '"
      ]
     },
     "execution_count": 58,
     "metadata": {},
     "output_type": "execute_result"
    }
   ],
   "source": [
    "s"
   ]
  },
  {
   "cell_type": "code",
   "execution_count": 59,
   "id": "0ca5f633",
   "metadata": {},
   "outputs": [],
   "source": [
    "s='priyanka'"
   ]
  },
  {
   "cell_type": "code",
   "execution_count": 60,
   "id": "897db158",
   "metadata": {},
   "outputs": [
    {
     "data": {
      "text/plain": [
       "True"
      ]
     },
     "execution_count": 60,
     "metadata": {},
     "output_type": "execute_result"
    }
   ],
   "source": [
    "s.isalpha()"
   ]
  },
  {
   "cell_type": "code",
   "execution_count": 61,
   "id": "6f17df22",
   "metadata": {},
   "outputs": [
    {
     "data": {
      "text/plain": [
       "False"
      ]
     },
     "execution_count": 61,
     "metadata": {},
     "output_type": "execute_result"
    }
   ],
   "source": [
    "s.startswith('i')"
   ]
  },
  {
   "cell_type": "code",
   "execution_count": 62,
   "id": "94b61bef",
   "metadata": {},
   "outputs": [
    {
     "data": {
      "text/plain": [
       "False"
      ]
     },
     "execution_count": 62,
     "metadata": {},
     "output_type": "execute_result"
    }
   ],
   "source": [
    "s.isdigit()"
   ]
  },
  {
   "cell_type": "code",
   "execution_count": 63,
   "id": "bdf5f76e",
   "metadata": {},
   "outputs": [
    {
     "data": {
      "text/plain": [
       "False"
      ]
     },
     "execution_count": 63,
     "metadata": {},
     "output_type": "execute_result"
    }
   ],
   "source": [
    "s.isnumeric()"
   ]
  },
  {
   "cell_type": "code",
   "execution_count": 64,
   "id": "eb129726",
   "metadata": {},
   "outputs": [
    {
     "data": {
      "text/plain": [
       "True"
      ]
     },
     "execution_count": 64,
     "metadata": {},
     "output_type": "execute_result"
    }
   ],
   "source": [
    "s.isascii()"
   ]
  },
  {
   "cell_type": "code",
   "execution_count": 65,
   "id": "155dadfd",
   "metadata": {},
   "outputs": [
    {
     "data": {
      "text/plain": [
       "'priyanka'"
      ]
     },
     "execution_count": 65,
     "metadata": {},
     "output_type": "execute_result"
    }
   ],
   "source": [
    "s"
   ]
  },
  {
   "cell_type": "code",
   "execution_count": 67,
   "id": "a93b976c",
   "metadata": {},
   "outputs": [
    {
     "data": {
      "text/plain": [
       "'aknayirp'"
      ]
     },
     "execution_count": 67,
     "metadata": {},
     "output_type": "execute_result"
    }
   ],
   "source": [
    "\"\".join(reversed(s))"
   ]
  },
  {
   "cell_type": "code",
   "execution_count": 1,
   "id": "c0d4c032",
   "metadata": {},
   "outputs": [],
   "source": [
    "s = \"this is my first python programming class and i am learning pyhton string and its function\""
   ]
  },
  {
   "cell_type": "markdown",
   "id": "9e29d155",
   "metadata": {},
   "source": [
    "try to extract data from index one to index 300 with a jump of 3\n",
    "try to reverse a string without using reverse fiunction\n",
    "try to split a string after converstion of entire string in uppercase\n",
    "try to convert the whole string into lower case\n",
    "try to capitalize the whole string \n",
    "write a difference between isalnum() and isalpha()\n",
    "try to give an example of expand tab\n",
    "give an example of strip,lstrip and rstrip\n",
    "replace a string character by another charecter by taking your own example\n",
    "try to give defination of string center function with an example\n",
    "write your own definition of compiler and interpretor without copy paste form internet in your own language\n",
    "pyhton is interpereted of compiled language give a clear ans with your understanding\n",
    "try to write a usecase of python with your understanding\n",
    "\n",
    "shivan@ineuron.ai"
   ]
  },
  {
   "cell_type": "code",
   "execution_count": 13,
   "id": "bd0c2576",
   "metadata": {},
   "outputs": [
    {
     "name": "stdout",
     "output_type": "stream",
     "text": [
      "h   r tnrrmglsnimengyosi dtfco\n",
      "noitcnuf sti dna gnirts nothyp gninrael ma i dna ssalc gnimmargorp nohtyp tsrof ym si siht\n"
     ]
    }
   ],
   "source": [
    "print(s[1:300:3])\n",
    "print(s[::-1])"
   ]
  },
  {
   "cell_type": "code",
   "execution_count": 10,
   "id": "487666e0",
   "metadata": {},
   "outputs": [
    {
     "name": "stdout",
     "output_type": "stream",
     "text": [
      "noitcnuf sti dna gnirts nothyp gninrael ma i dna ssalc gnimmargorp nohtyp tsrof ym si siht\n"
     ]
    }
   ],
   "source": []
  },
  {
   "cell_type": "code",
   "execution_count": 14,
   "id": "9d65201e",
   "metadata": {},
   "outputs": [
    {
     "name": "stdout",
     "output_type": "stream",
     "text": [
      "['THIS', 'IS', 'MY', 'FORST', 'PYTHON', 'PROGRAMMING', 'CLASS', 'AND', 'I', 'AM', 'LEARNING', 'PYHTON', 'STRING', 'AND', 'ITS', 'FUNCTION']\n"
     ]
    }
   ],
   "source": [
    "s1 = s.upper()\n",
    "s2 = s1.split(\" \")\n",
    "print(s2)"
   ]
  },
  {
   "cell_type": "code",
   "execution_count": 12,
   "id": "84cfc0b5",
   "metadata": {},
   "outputs": [
    {
     "name": "stdout",
     "output_type": "stream",
     "text": [
      "this is my forst python programming class and i am learning pyhton string and its function\n"
     ]
    }
   ],
   "source": [
    "print(s.lower())"
   ]
  },
  {
   "cell_type": "code",
   "execution_count": 15,
   "id": "6c1228dc",
   "metadata": {},
   "outputs": [
    {
     "name": "stdout",
     "output_type": "stream",
     "text": [
      "This is my forst python programming class and i am learning pyhton string and its function\n"
     ]
    }
   ],
   "source": [
    "print(s.capitalize())"
   ]
  },
  {
   "cell_type": "markdown",
   "id": "a10a41d1",
   "metadata": {},
   "source": [
    "isalnum function checks the input parameter is alphanumeric or not. isalpha function checks the passed parameter is alphabet or not."
   ]
  },
  {
   "cell_type": "markdown",
   "id": "5dd18b5b",
   "metadata": {},
   "source": [
    "7. The expandtabs() method sets the tab size to the specified number of whitespaces.\n",
    "example-\n",
    "txt = \"H\\te\\tl\\tl\\to\"\n",
    "x =  txt.expandtabs(2)\n",
    "print(x)"
   ]
  },
  {
   "cell_type": "code",
   "execution_count": 21,
   "id": "ffa34a4f",
   "metadata": {},
   "outputs": [
    {
     "name": "stdout",
     "output_type": "stream",
     "text": [
      "ineuron\n",
      "ineuron\n",
      "ineuron\n"
     ]
    }
   ],
   "source": [
    "a = \"  ineuron   \"\n",
    "print(a.strip())\n",
    "a1 = \"   ineuron\"\n",
    "print(a1.lstrip())\n",
    "a2 = \"ineuron    \"\n",
    "print(a2.rstrip())"
   ]
  },
  {
   "cell_type": "code",
   "execution_count": 25,
   "id": "71d912f0",
   "metadata": {},
   "outputs": [
    {
     "data": {
      "text/plain": [
       "'Hi there'"
      ]
     },
     "execution_count": 25,
     "metadata": {},
     "output_type": "execute_result"
    }
   ],
   "source": [
    "a = \"hey there\"\n",
    "a.replace(\"hey\",\"Hi\")"
   ]
  },
  {
   "cell_type": "code",
   "execution_count": 33,
   "id": "4e6431bb",
   "metadata": {},
   "outputs": [
    {
     "ename": "SyntaxError",
     "evalue": "invalid syntax (<ipython-input-33-31655c8dd09d>, line 1)",
     "output_type": "error",
     "traceback": [
      "\u001b[1;36m  File \u001b[1;32m\"<ipython-input-33-31655c8dd09d>\"\u001b[1;36m, line \u001b[1;32m1\u001b[0m\n\u001b[1;33m    The center() method will center align the string, using a specified character (space is default) as the fill character.\u001b[0m\n\u001b[1;37m        ^\u001b[0m\n\u001b[1;31mSyntaxError\u001b[0m\u001b[1;31m:\u001b[0m invalid syntax\n"
     ]
    }
   ],
   "source": [
    "The center() method will center align the string, using a specified character (space is default) as the fill character.\n",
    "example-\n",
    "a = \"data\"\n",
    "print(a.center(20,\"0\"))"
   ]
  },
  {
   "cell_type": "markdown",
   "id": "d7014cab",
   "metadata": {},
   "source": [
    "Python compiler and interpreter are quitely same.compiler reads and generates code instantly,process is fast.On the other hand\n",
    "interpreter read code line by line and doesn't create code as fast and efficient as compiler does."
   ]
  },
  {
   "cell_type": "markdown",
   "id": "14498b53",
   "metadata": {},
   "source": [
    "Python is a 'Complied Interpreter' but some programmer says python is interpreter. Internally python complies the code first tha interpreted.\n",
    "The compilation part is done first when we execute our code and this will generate byte code and internally this byte code gets converted by the python virtual machine according to the underlying platform."
   ]
  },
  {
   "cell_type": "code",
   "execution_count": null,
   "id": "d72d3223",
   "metadata": {},
   "outputs": [],
   "source": [
    "Python Usecases-\n",
    "for scripting, creating applications like gaming applications, machine learning, backend development,web scraping,artificial intelligence,IoT,education programs,enterprise applications and for automation etc."
   ]
  }
 ],
 "metadata": {
  "kernelspec": {
   "display_name": "Python 3",
   "language": "python",
   "name": "python3"
  },
  "language_info": {
   "codemirror_mode": {
    "name": "ipython",
    "version": 3
   },
   "file_extension": ".py",
   "mimetype": "text/x-python",
   "name": "python",
   "nbconvert_exporter": "python",
   "pygments_lexer": "ipython3",
   "version": "3.8.8"
  }
 },
 "nbformat": 4,
 "nbformat_minor": 5
}
