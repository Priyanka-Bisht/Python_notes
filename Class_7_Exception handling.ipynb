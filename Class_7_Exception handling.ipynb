{
 "cells": [
  {
   "cell_type": "markdown",
   "id": "701958bd",
   "metadata": {},
   "source": [
    "Exception handling"
   ]
  },
  {
   "cell_type": "code",
   "execution_count": 1,
   "id": "e830c063",
   "metadata": {},
   "outputs": [
    {
     "name": "stdout",
     "output_type": "stream",
     "text": [
      "30\n"
     ]
    }
   ],
   "source": [
    "a = 10\n",
    "b = 20\n",
    "c = a+b\n",
    "print(c)"
   ]
  },
  {
   "cell_type": "code",
   "execution_count": 2,
   "id": "0948cd48",
   "metadata": {},
   "outputs": [
    {
     "ename": "SyntaxError",
     "evalue": "unexpected EOF while parsing (<ipython-input-2-4892396dd26d>, line 4)",
     "output_type": "error",
     "traceback": [
      "\u001b[1;36m  File \u001b[1;32m\"<ipython-input-2-4892396dd26d>\"\u001b[1;36m, line \u001b[1;32m4\u001b[0m\n\u001b[1;33m    print(c\u001b[0m\n\u001b[1;37m           ^\u001b[0m\n\u001b[1;31mSyntaxError\u001b[0m\u001b[1;31m:\u001b[0m unexpected EOF while parsing\n"
     ]
    }
   ],
   "source": [
    "# Exeption_1\n",
    "a = 10\n",
    "b = 20\n",
    "c = a+b\n",
    "print(c"
   ]
  },
  {
   "cell_type": "code",
   "execution_count": 3,
   "id": "7591aadd",
   "metadata": {},
   "outputs": [
    {
     "ename": "SyntaxError",
     "evalue": "unexpected EOF while parsing (<ipython-input-3-ecbec857576f>, line 5)",
     "output_type": "error",
     "traceback": [
      "\u001b[1;36m  File \u001b[1;32m\"<ipython-input-3-ecbec857576f>\"\u001b[1;36m, line \u001b[1;32m5\u001b[0m\n\u001b[1;33m    print(c\u001b[0m\n\u001b[1;37m           ^\u001b[0m\n\u001b[1;31mSyntaxError\u001b[0m\u001b[1;31m:\u001b[0m unexpected EOF while parsing\n"
     ]
    }
   ],
   "source": [
    "# Exeption_2\n",
    "a = 10\n",
    "b = \"p\"\n",
    "c = a+b\n",
    "print(c"
   ]
  },
  {
   "cell_type": "code",
   "execution_count": 5,
   "id": "fd6e295f",
   "metadata": {},
   "outputs": [
    {
     "name": "stdout",
     "output_type": "stream",
     "text": [
      "enter first no10\n",
      "enter second no20\n",
      "0.5\n",
      "200\n"
     ]
    }
   ],
   "source": [
    "# Exeption_3\n",
    "a = int(input(\"enter first no\"))\n",
    "b = int(input(\"enter second no\"))\n",
    "c = a/b\n",
    "print(c)\n",
    "d = a*b\n",
    "print(d)"
   ]
  },
  {
   "cell_type": "code",
   "execution_count": 6,
   "id": "a45d2573",
   "metadata": {},
   "outputs": [
    {
     "name": "stdout",
     "output_type": "stream",
     "text": [
      "enter first no10\n",
      "enter second no0\n"
     ]
    },
    {
     "ename": "ZeroDivisionError",
     "evalue": "division by zero",
     "output_type": "error",
     "traceback": [
      "\u001b[1;31m---------------------------------------------------------------------------\u001b[0m",
      "\u001b[1;31mZeroDivisionError\u001b[0m                         Traceback (most recent call last)",
      "\u001b[1;32m<ipython-input-6-5786c0d6f2aa>\u001b[0m in \u001b[0;36m<module>\u001b[1;34m\u001b[0m\n\u001b[0;32m      1\u001b[0m \u001b[0ma\u001b[0m \u001b[1;33m=\u001b[0m \u001b[0mint\u001b[0m\u001b[1;33m(\u001b[0m\u001b[0minput\u001b[0m\u001b[1;33m(\u001b[0m\u001b[1;34m\"enter first no\"\u001b[0m\u001b[1;33m)\u001b[0m\u001b[1;33m)\u001b[0m\u001b[1;33m\u001b[0m\u001b[1;33m\u001b[0m\u001b[0m\n\u001b[0;32m      2\u001b[0m \u001b[0mb\u001b[0m \u001b[1;33m=\u001b[0m \u001b[0mint\u001b[0m\u001b[1;33m(\u001b[0m\u001b[0minput\u001b[0m\u001b[1;33m(\u001b[0m\u001b[1;34m\"enter second no\"\u001b[0m\u001b[1;33m)\u001b[0m\u001b[1;33m)\u001b[0m\u001b[1;33m\u001b[0m\u001b[1;33m\u001b[0m\u001b[0m\n\u001b[1;32m----> 3\u001b[1;33m \u001b[0mc\u001b[0m \u001b[1;33m=\u001b[0m \u001b[0ma\u001b[0m\u001b[1;33m/\u001b[0m\u001b[0mb\u001b[0m\u001b[1;33m\u001b[0m\u001b[1;33m\u001b[0m\u001b[0m\n\u001b[0m\u001b[0;32m      4\u001b[0m \u001b[0mprint\u001b[0m\u001b[1;33m(\u001b[0m\u001b[0mc\u001b[0m\u001b[1;33m)\u001b[0m\u001b[1;33m\u001b[0m\u001b[1;33m\u001b[0m\u001b[0m\n\u001b[0;32m      5\u001b[0m \u001b[0md\u001b[0m \u001b[1;33m=\u001b[0m \u001b[0ma\u001b[0m\u001b[1;33m*\u001b[0m\u001b[0mb\u001b[0m\u001b[1;33m\u001b[0m\u001b[1;33m\u001b[0m\u001b[0m\n",
      "\u001b[1;31mZeroDivisionError\u001b[0m: division by zero"
     ]
    }
   ],
   "source": [
    "a = int(input(\"enter first no\"))\n",
    "b = int(input(\"enter second no\"))\n",
    "c = a/b\n",
    "print(c)\n",
    "d = a*b\n",
    "print(d)"
   ]
  },
  {
   "cell_type": "markdown",
   "id": "6eb21d49",
   "metadata": {},
   "source": [
    "Why we need to do exeption handling?\n",
    "1. my further code execution will stop.\n",
    "2. this is not user friendly.\n",
    "\n",
    "FIVE KEY WORDS:\n",
    "try\n",
    "except\n",
    "else\n",
    "raise\n",
    "finally\n"
   ]
  },
  {
   "cell_type": "code",
   "execution_count": 1,
   "id": "252b0a11",
   "metadata": {},
   "outputs": [
    {
     "name": "stdout",
     "output_type": "stream",
     "text": [
      "enter first no10\n",
      "enter second no0\n",
      "b should not be a zero\n"
     ]
    }
   ],
   "source": [
    "# Using try and except \n",
    "# Example_1\n",
    "a = int(input(\"enter first no\"))\n",
    "b = int(input(\"enter second no\"))\n",
    "try:\n",
    "    c = a/b\n",
    "    print(c)\n",
    "except:\n",
    "    print(\"b should not be a zero\")\n"
   ]
  },
  {
   "cell_type": "code",
   "execution_count": 1,
   "id": "90710ce1",
   "metadata": {},
   "outputs": [
    {
     "name": "stdout",
     "output_type": "stream",
     "text": [
      "enter first no20\n",
      "enter second no10\n",
      "2.0\n"
     ]
    }
   ],
   "source": [
    "# Example_2\n",
    "a = int(input(\"enter first no\"))\n",
    "b = int(input(\"enter second no\"))\n",
    "try:\n",
    "    c = a/b\n",
    "    print(c)\n",
    "except:\n",
    "    print(\"b should not be a zero\")\n",
    "d = a+b"
   ]
  },
  {
   "cell_type": "code",
   "execution_count": 3,
   "id": "1338f7cb",
   "metadata": {},
   "outputs": [
    {
     "ename": "SyntaxError",
     "evalue": "unmatched ')' (<ipython-input-3-45ac0aadd31f>, line 6)",
     "output_type": "error",
     "traceback": [
      "\u001b[1;36m  File \u001b[1;32m\"<ipython-input-3-45ac0aadd31f>\"\u001b[1;36m, line \u001b[1;32m6\u001b[0m\n\u001b[1;33m    print(c))\u001b[0m\n\u001b[1;37m            ^\u001b[0m\n\u001b[1;31mSyntaxError\u001b[0m\u001b[1;31m:\u001b[0m unmatched ')'\n"
     ]
    }
   ],
   "source": [
    "# Example_3\n",
    "a = int(input(\"enter first no\"))\n",
    "b = int(input(\"enter second no\"))\n",
    "try:\n",
    "    c = a/b\n",
    "    print(c))\n",
    "except :\n",
    "    print(\"wrong syntex\")\n",
    "d = a+b"
   ]
  },
  {
   "cell_type": "code",
   "execution_count": null,
   "id": "96dc1f21",
   "metadata": {},
   "outputs": [],
   "source": [
    "# Example_4\n",
    "a = int(input(\"enter only a int:\"))\n",
    "b = int(input(\"enter second int:\"))\n",
    "try: \n",
    "    c = a/b\n",
    "    print(c)\n",
    "    d = a+str(b)\n",
    "    print(d)\n",
    "except ZeroDivisionError:\n",
    "    print(\"please input non-zero no\")\n",
    "except ValueError:\n",
    "    print(\"please input no only\")"
   ]
  },
  {
   "cell_type": "code",
   "execution_count": 2,
   "id": "4268d1d2",
   "metadata": {},
   "outputs": [
    {
     "name": "stdout",
     "output_type": "stream",
     "text": [
      "enter only a int:12\n",
      "enter second int:5\n",
      "2.4\n"
     ]
    },
    {
     "ename": "TypeError",
     "evalue": "unsupported operand type(s) for +: 'int' and 'str'",
     "output_type": "error",
     "traceback": [
      "\u001b[1;31m---------------------------------------------------------------------------\u001b[0m",
      "\u001b[1;31mTypeError\u001b[0m                                 Traceback (most recent call last)",
      "\u001b[1;32m<ipython-input-2-29549ee87380>\u001b[0m in \u001b[0;36m<module>\u001b[1;34m\u001b[0m\n\u001b[0;32m      4\u001b[0m     \u001b[0mc\u001b[0m \u001b[1;33m=\u001b[0m \u001b[0ma\u001b[0m\u001b[1;33m/\u001b[0m\u001b[0mb\u001b[0m\u001b[1;33m\u001b[0m\u001b[1;33m\u001b[0m\u001b[0m\n\u001b[0;32m      5\u001b[0m     \u001b[0mprint\u001b[0m\u001b[1;33m(\u001b[0m\u001b[0mc\u001b[0m\u001b[1;33m)\u001b[0m\u001b[1;33m\u001b[0m\u001b[1;33m\u001b[0m\u001b[0m\n\u001b[1;32m----> 6\u001b[1;33m     \u001b[0md\u001b[0m \u001b[1;33m=\u001b[0m \u001b[0ma\u001b[0m\u001b[1;33m+\u001b[0m\u001b[0mstr\u001b[0m\u001b[1;33m(\u001b[0m\u001b[0mb\u001b[0m\u001b[1;33m)\u001b[0m\u001b[1;33m\u001b[0m\u001b[1;33m\u001b[0m\u001b[0m\n\u001b[0m\u001b[0;32m      7\u001b[0m     \u001b[0mprint\u001b[0m\u001b[1;33m(\u001b[0m\u001b[0md\u001b[0m\u001b[1;33m)\u001b[0m\u001b[1;33m\u001b[0m\u001b[1;33m\u001b[0m\u001b[0m\n\u001b[0;32m      8\u001b[0m \u001b[1;32mexcept\u001b[0m \u001b[0mZeroDivisionError\u001b[0m\u001b[1;33m:\u001b[0m\u001b[1;33m\u001b[0m\u001b[1;33m\u001b[0m\u001b[0m\n",
      "\u001b[1;31mTypeError\u001b[0m: unsupported operand type(s) for +: 'int' and 'str'"
     ]
    }
   ],
   "source": [
    "# Example_5\n",
    "a = int(input(\"enter only a int:\"))\n",
    "b = int(input(\"enter second int:\"))\n",
    "try: \n",
    "    c = a/b\n",
    "    print(c)\n",
    "    d = a+str(b)\n",
    "    print(d)\n",
    "except ZeroDivisionError:\n",
    "    print(\"please input non-zero no\")"
   ]
  },
  {
   "cell_type": "code",
   "execution_count": 1,
   "id": "04b71cc5",
   "metadata": {},
   "outputs": [
    {
     "name": "stdout",
     "output_type": "stream",
     "text": [
      "enter only a int:10\n",
      "enter second int:0\n",
      "please input non-zero no\n"
     ]
    }
   ],
   "source": [
    "# Example_6\n",
    "a = int(input(\"enter only a int:\"))\n",
    "b = int(input(\"enter second int:\"))\n",
    "try: \n",
    "    c = a/b\n",
    "    print(c)\n",
    "    d = a+str(b)\n",
    "    print(d)\n",
    "except:\n",
    "    print(\"please input non-zero no\")"
   ]
  },
  {
   "cell_type": "code",
   "execution_count": 5,
   "id": "70b2fbdd",
   "metadata": {},
   "outputs": [
    {
     "name": "stdout",
     "output_type": "stream",
     "text": [
      "enter only a int:12\n",
      "enter second int:45\n",
      "57\n"
     ]
    }
   ],
   "source": [
    "# Example_7\n",
    "a = int(input(\"enter only a int:\"))\n",
    "b = int(input(\"enter second int:\"))\n",
    "try: \n",
    "    d = a+b\n",
    "    print(d)\n",
    "except TypeError:\n",
    "    print(\"please input non-zero no\")"
   ]
  },
  {
   "cell_type": "code",
   "execution_count": 6,
   "id": "1fb9526d",
   "metadata": {},
   "outputs": [
    {
     "name": "stdout",
     "output_type": "stream",
     "text": [
      "write your name: vivek\n",
      "write your name: priyanka\n",
      "write your name: rahul\n",
      "write your name: anita\n",
      "write your name: anu\n",
      "write your name: ansh\n",
      "write your name: Priyanka\n",
      "Priyanka\n"
     ]
    }
   ],
   "source": [
    "while True:\n",
    "    name = input(\"write your name: \")\n",
    "    if name == \"Priyanka\":\n",
    "        print(\"Priyanka\")\n",
    "        break"
   ]
  },
  {
   "cell_type": "code",
   "execution_count": 3,
   "id": "98945a70",
   "metadata": {},
   "outputs": [
    {
     "name": "stdout",
     "output_type": "stream",
     "text": [
      "enter first no 10\n",
      "enter second no a\n",
      "there should not be string\n",
      "enter first no 10\n",
      "enter second no 0\n",
      "non zero denominator\n",
      "enter first no 25\n",
      "enter second no 15\n",
      "1.6666666666666667\n"
     ]
    }
   ],
   "source": [
    "while True:\n",
    "   \n",
    "    try: \n",
    "        a = int(input(\"enter first no \"))\n",
    "        b = int(input(\"enter second no \"))\n",
    "        c = a/b\n",
    "        print(c)\n",
    "        break\n",
    "        \n",
    "    except ValueError:\n",
    "        print(\"there should not be string\")\n",
    "    except ZeroDivisionError:\n",
    "        print(\"non zero denominator\")\n",
    "    "
   ]
  },
  {
   "cell_type": "code",
   "execution_count": null,
   "id": "ebfc6058",
   "metadata": {},
   "outputs": [
    {
     "name": "stdout",
     "output_type": "stream",
     "text": [
      "first no: 10\n",
      "second no: 0\n",
      "division by zero\n"
     ]
    }
   ],
   "source": [
    "while True:\n",
    "    try:\n",
    "        a = int(input(\"first no: \"))\n",
    "        b = int(input(\"second no: \"))\n",
    "        c = a/b\n",
    "        print(\"div\",c)\n",
    "        break\n",
    "    except ZeroDivisionError as e:\n",
    "        print(e)"
   ]
  },
  {
   "cell_type": "code",
   "execution_count": 6,
   "id": "c9800e2a",
   "metadata": {},
   "outputs": [
    {
     "name": "stdout",
     "output_type": "stream",
     "text": [
      "first no: 20\n",
      "second no: 5\n",
      "div 4.0\n"
     ]
    }
   ],
   "source": [
    "import sys\n",
    "while True:\n",
    "    try:\n",
    "        a = int(input(\"first no: \"))\n",
    "        b = int(input(\"second no: \"))\n",
    "        c = a/b\n",
    "        print(\"div\",c)\n",
    "        break\n",
    "    except:\n",
    "        a,b,c=(sys.exc_info())\n",
    "        print(\"excption class\",a)\n",
    "        print(\"excption message\",b)\n",
    "        print(\"line no\",c)"
   ]
  },
  {
   "cell_type": "code",
   "execution_count": 3,
   "id": "b61720c6",
   "metadata": {},
   "outputs": [],
   "source": [
    "a,b,c = (1,2,3)"
   ]
  },
  {
   "cell_type": "code",
   "execution_count": 4,
   "id": "c071078a",
   "metadata": {},
   "outputs": [
    {
     "data": {
      "text/plain": [
       "1"
      ]
     },
     "execution_count": 4,
     "metadata": {},
     "output_type": "execute_result"
    }
   ],
   "source": [
    "a"
   ]
  },
  {
   "cell_type": "code",
   "execution_count": 5,
   "id": "b9a9e250",
   "metadata": {},
   "outputs": [
    {
     "data": {
      "text/plain": [
       "3"
      ]
     },
     "execution_count": 5,
     "metadata": {},
     "output_type": "execute_result"
    }
   ],
   "source": [
    "c"
   ]
  },
  {
   "cell_type": "code",
   "execution_count": 2,
   "id": "c5ba73f8",
   "metadata": {},
   "outputs": [
    {
     "ename": "SyntaxError",
     "evalue": "invalid syntax (<ipython-input-2-333b92bde915>, line 2)",
     "output_type": "error",
     "traceback": [
      "\u001b[1;36m  File \u001b[1;32m\"<ipython-input-2-333b92bde915>\"\u001b[1;36m, line \u001b[1;32m2\u001b[0m\n\u001b[1;33m    import traceback.format_exc()\u001b[0m\n\u001b[1;37m                               ^\u001b[0m\n\u001b[1;31mSyntaxError\u001b[0m\u001b[1;31m:\u001b[0m invalid syntax\n"
     ]
    }
   ],
   "source": [
    "#import sys.exc_info()\n",
    "import traceback.format_exc()"
   ]
  },
  {
   "cell_type": "code",
   "execution_count": null,
   "id": "712da3b4",
   "metadata": {},
   "outputs": [
    {
     "name": "stdout",
     "output_type": "stream",
     "text": [
      "first no: 10\n",
      "second no: 0\n",
      "Traceback (most recent call last):\n",
      "  File \"<ipython-input-4-19c83d918483>\", line 6, in <module>\n",
      "    c = a/b\n",
      "ZeroDivisionError: division by zero\n",
      "\n"
     ]
    }
   ],
   "source": [
    "import traceback\n",
    "while True:\n",
    "    try:\n",
    "        a = int(input(\"first no: \"))\n",
    "        b = int(input(\"second no: \"))\n",
    "        c = a/b\n",
    "        print(\"div\",c)\n",
    "        break\n",
    "    except:\n",
    "        print(traceback.format_exc())"
   ]
  },
  {
   "cell_type": "code",
   "execution_count": null,
   "id": "d57f719b",
   "metadata": {},
   "outputs": [],
   "source": [
    "#raise exception\n",
    "# at custom line"
   ]
  },
  {
   "cell_type": "code",
   "execution_count": null,
   "id": "c341260d",
   "metadata": {},
   "outputs": [
    {
     "name": "stdout",
     "output_type": "stream",
     "text": [
      "first no: 10\n",
      "second no: 0\n",
      "please enter non zero denominator\n",
      "first no: 10\n",
      "second no: 2\n",
      "div is 5.0\n",
      "first no: 10\n",
      "second no: a\n",
      "please enter int only\n",
      "first no: 0\n",
      "second no: 10\n",
      "div is 0.0\n",
      "first no: 50\n",
      "second no: 25\n",
      "div is 2.0\n"
     ]
    }
   ],
   "source": [
    "while True:\n",
    "    try:\n",
    "        a = int(input(\"first no: \"))\n",
    "        b = int(input(\"second no: \"))\n",
    "        if a<0 or b<0: \n",
    "            raise exception(\"neg no not allowed\")\n",
    "        c = a/b\n",
    "        print(\"div is\", c)\n",
    "    except ValueError:\n",
    "        print(\"please enter int only\")\n",
    "    except ZeroDivisionError:\n",
    "        print(\"please enter non zero denominator\")\n",
    "    except Exception as e:\n",
    "        print(e)"
   ]
  },
  {
   "cell_type": "code",
   "execution_count": null,
   "id": "c4017ef3",
   "metadata": {},
   "outputs": [],
   "source": [
    "#custom exception"
   ]
  },
  {
   "cell_type": "code",
   "execution_count": null,
   "id": "41e75efc",
   "metadata": {},
   "outputs": [],
   "source": []
  },
  {
   "cell_type": "code",
   "execution_count": 2,
   "id": "db6d2bee",
   "metadata": {},
   "outputs": [],
   "source": [
    "class NegativeNumberexception(Exception):\n",
    "    pass"
   ]
  },
  {
   "cell_type": "code",
   "execution_count": null,
   "id": "93327020",
   "metadata": {},
   "outputs": [
    {
     "name": "stdout",
     "output_type": "stream",
     "text": [
      "first no: 46228\n",
      "second no: -26\n",
      "neg no not allowed\n"
     ]
    }
   ],
   "source": [
    "\n",
    "while True:\n",
    "    try:\n",
    "        a = int(input(\"first no: \"))\n",
    "        b = int(input(\"second no: \"))\n",
    "        if a<0 or b<0: \n",
    "            raise NegativeNumberexception(\"neg no not allowed\")\n",
    "        c = a/b\n",
    "        print(\"div is\", c)\n",
    "    except ValueError:\n",
    "        print(\"please enter int only\")\n",
    "    except ZeroDivisionError:\n",
    "        print(\"please enter non zero denominator\")\n",
    "    except Exception as e:\n",
    "        print(e)"
   ]
  },
  {
   "cell_type": "code",
   "execution_count": null,
   "id": "8108ad36",
   "metadata": {},
   "outputs": [],
   "source": [
    "# final block"
   ]
  },
  {
   "cell_type": "markdown",
   "id": "b3040e06",
   "metadata": {},
   "source": [
    "1. we have create one database\n",
    "we forgot to close the connection\n",
    "\n",
    "2. cloud service\n",
    "those app we forgot to terminate"
   ]
  },
  {
   "cell_type": "code",
   "execution_count": 1,
   "id": "cfcc8473",
   "metadata": {},
   "outputs": [
    {
     "name": "stdout",
     "output_type": "stream",
     "text": [
      "first no: 10\n",
      "second no: 0\n",
      "dont use zero in denominator\n",
      "hello\n",
      "python\n"
     ]
    }
   ],
   "source": [
    "try:\n",
    "    a = int(input(\"first no: \"))\n",
    "    b = int(input(\"second no: \"))\n",
    "    c = a/b\n",
    "    print(c)\n",
    "except:\n",
    "    print(\"dont use zero in denominator\")\n",
    "finally:\n",
    "    print(\"hello\")\n",
    "    print(\"python\")\n",
    "    "
   ]
  },
  {
   "cell_type": "code",
   "execution_count": 3,
   "id": "4e1e7fe0",
   "metadata": {},
   "outputs": [
    {
     "name": "stdout",
     "output_type": "stream",
     "text": [
      "first no: 52\n",
      "second no: 0\n",
      "dont use zero in denominator\n",
      "hello\n",
      "python\n"
     ]
    }
   ],
   "source": [
    "try:\n",
    "    a = int(input(\"first no: \"))\n",
    "    b = int(input(\"second no: \"))\n",
    "    c = a/b\n",
    "    print(c)\n",
    "except:\n",
    "    print(\"dont use zero in denominator\")\n",
    "\n",
    "    print(\"hello\")\n",
    "    print(\"python\")\n",
    "    "
   ]
  },
  {
   "cell_type": "code",
   "execution_count": 4,
   "id": "44cd54b9",
   "metadata": {},
   "outputs": [
    {
     "name": "stdout",
     "output_type": "stream",
     "text": [
      "first no: 20\n",
      "second no: 0\n",
      "dont use zero in denominator\n"
     ]
    }
   ],
   "source": [
    "try:\n",
    "    a = int(input(\"first no: \"))\n",
    "    b = int(input(\"second no: \"))\n",
    "    c = a/b\n",
    "    print(c)\n",
    "except:\n",
    "    print(\"dont use zero in denominator\")\n",
    "else:\n",
    "    print(\"python rocks\")\n",
    "    "
   ]
  },
  {
   "cell_type": "code",
   "execution_count": 5,
   "id": "289f0d0d",
   "metadata": {},
   "outputs": [
    {
     "name": "stdout",
     "output_type": "stream",
     "text": [
      "first no: 20\n",
      "second no: 0\n",
      "dont use zero in denominator\n",
      "python rocks\n"
     ]
    }
   ],
   "source": [
    "try:\n",
    "    a = int(input(\"first no: \"))\n",
    "    b = int(input(\"second no: \"))\n",
    "    c = a/b\n",
    "    print(c)\n",
    "except:\n",
    "    print(\"dont use zero in denominator\")\n",
    "finally:\n",
    "    print(\"python rocks\")"
   ]
  },
  {
   "cell_type": "markdown",
   "id": "c495757a",
   "metadata": {},
   "source": [
    "Exception handling by Sudhanshu kumar"
   ]
  },
  {
   "cell_type": "code",
   "execution_count": 2,
   "id": "5948a18a",
   "metadata": {},
   "outputs": [
    {
     "ename": "ZeroDivisionError",
     "evalue": "division by zero",
     "output_type": "error",
     "traceback": [
      "\u001b[1;31m---------------------------------------------------------------------------\u001b[0m",
      "\u001b[1;31mZeroDivisionError\u001b[0m                         Traceback (most recent call last)",
      "\u001b[1;32m<ipython-input-2-5895e735636f>\u001b[0m in \u001b[0;36m<module>\u001b[1;34m\u001b[0m\n\u001b[0;32m      1\u001b[0m \u001b[0ma\u001b[0m \u001b[1;33m=\u001b[0m \u001b[1;36m10\u001b[0m\u001b[1;33m\u001b[0m\u001b[1;33m\u001b[0m\u001b[0m\n\u001b[1;32m----> 2\u001b[1;33m \u001b[0ma\u001b[0m\u001b[1;33m/\u001b[0m\u001b[1;36m0\u001b[0m\u001b[1;33m\u001b[0m\u001b[1;33m\u001b[0m\u001b[0m\n\u001b[0m",
      "\u001b[1;31mZeroDivisionError\u001b[0m: division by zero"
     ]
    }
   ],
   "source": [
    "a = 10\n",
    "a/0"
   ]
  },
  {
   "cell_type": "code",
   "execution_count": 3,
   "id": "debfa2aa",
   "metadata": {},
   "outputs": [
    {
     "name": "stdout",
     "output_type": "stream",
     "text": [
      "division by zero\n",
      "this will be my final code after handling an exception\n"
     ]
    }
   ],
   "source": [
    "try:\n",
    "    a =10\n",
    "    a/0\n",
    "except Exception as e:\n",
    "    print(e)\n",
    "    print(\"this will be my final code after handling an exception\")"
   ]
  },
  {
   "cell_type": "code",
   "execution_count": 5,
   "id": "5c5334ac",
   "metadata": {},
   "outputs": [
    {
     "name": "stdout",
     "output_type": "stream",
     "text": [
      "1.0\n"
     ]
    }
   ],
   "source": [
    "try:\n",
    "    a =10\n",
    "    print(a/10)\n",
    "except Exception as e:\n",
    "    print(e)\n",
    "    print(\"this will be my final code after handling an exception\")"
   ]
  },
  {
   "cell_type": "code",
   "execution_count": 6,
   "id": "1fe804d2",
   "metadata": {},
   "outputs": [
    {
     "name": "stdout",
     "output_type": "stream",
     "text": [
      "[Errno 2] No such file or directory: 'pinka.txt'\n"
     ]
    }
   ],
   "source": [
    "try:\n",
    "    f = open(\"pinka.txt\",\"r\")\n",
    "    print(\"this is my code\")\n",
    "except Exception as e:\n",
    "    print(e)"
   ]
  },
  {
   "cell_type": "code",
   "execution_count": 7,
   "id": "8c271e78",
   "metadata": {},
   "outputs": [
    {
     "ename": "FileNotFoundError",
     "evalue": "[Errno 2] No such file or directory: 'pinka.txt'",
     "output_type": "error",
     "traceback": [
      "\u001b[1;31m---------------------------------------------------------------------------\u001b[0m",
      "\u001b[1;31mFileNotFoundError\u001b[0m                         Traceback (most recent call last)",
      "\u001b[1;32m<ipython-input-7-086c6de30df1>\u001b[0m in \u001b[0;36m<module>\u001b[1;34m\u001b[0m\n\u001b[1;32m----> 1\u001b[1;33m \u001b[0mf\u001b[0m \u001b[1;33m=\u001b[0m \u001b[0mopen\u001b[0m\u001b[1;33m(\u001b[0m\u001b[1;34m\"pinka.txt\"\u001b[0m\u001b[1;33m,\u001b[0m\u001b[1;34m\"r\"\u001b[0m\u001b[1;33m)\u001b[0m\u001b[1;33m\u001b[0m\u001b[1;33m\u001b[0m\u001b[0m\n\u001b[0m\u001b[0;32m      2\u001b[0m \u001b[0mf\u001b[0m\u001b[1;33m.\u001b[0m\u001b[0mwrite\u001b[0m\u001b[1;33m(\u001b[0m\u001b[1;34m\"hey world here is my first code\"\u001b[0m\u001b[1;33m)\u001b[0m\u001b[1;33m\u001b[0m\u001b[1;33m\u001b[0m\u001b[0m\n",
      "\u001b[1;31mFileNotFoundError\u001b[0m: [Errno 2] No such file or directory: 'pinka.txt'"
     ]
    }
   ],
   "source": [
    "f = open(\"pinka.txt\",\"r\")\n",
    "f.write(\"hey world here is my first code\")"
   ]
  },
  {
   "cell_type": "code",
   "execution_count": 9,
   "id": "602ae8a0",
   "metadata": {},
   "outputs": [
    {
     "name": "stdout",
     "output_type": "stream",
     "text": [
      "[Errno 2] No such file or directory: 'pinka.txt'\n",
      "this is not my suspicious set of the code\n"
     ]
    }
   ],
   "source": [
    "try:\n",
    "    f = open(\"pinka.txt\",\"r\")\n",
    "    f.write(\"hey world here is my first code\")\n",
    "except Exception as e:\n",
    "    print(e)\n",
    "    print(\"this is not my suspicious set of the code\")"
   ]
  },
  {
   "cell_type": "code",
   "execution_count": 11,
   "id": "f6ff0d00",
   "metadata": {},
   "outputs": [
    {
     "name": "stdout",
     "output_type": "stream",
     "text": [
      "[Errno 2] No such file or directory: 'pinka.txt'\n",
      "this is not my suspicious set of the code\n",
      "this block will be executed anytime\n"
     ]
    }
   ],
   "source": [
    "try:\n",
    "    f = open(\"pinka.txt\",\"r\")\n",
    "    f.write(\"hey world here is my first code\")\n",
    "except Exception as e:\n",
    "    print(e)\n",
    "    print(\"this is not my suspicious set of the code\")\n",
    "finally:\n",
    "    print(\"this block will be executed anytime\")"
   ]
  },
  {
   "cell_type": "code",
   "execution_count": 14,
   "id": "fffd2e33",
   "metadata": {},
   "outputs": [],
   "source": [
    "def askint():\n",
    "    try:\n",
    "        val = int(input(\"please enter an integer\"))\n",
    "    except:\n",
    "        print(\"No! you have not entered an integer\")\n",
    "        try:\n",
    "            val = int(input(\"please enter an integer\"))\n",
    "        except:\n",
    "            print(\"we are able to handle your mistake second time\")\n",
    "    finally:\n",
    "        print(\"finally will be executed anyhow\")"
   ]
  },
  {
   "cell_type": "code",
   "execution_count": 15,
   "id": "69f14830",
   "metadata": {},
   "outputs": [
    {
     "name": "stdout",
     "output_type": "stream",
     "text": [
      "please enter an integer5446\n",
      "finally will be executed anyhow\n"
     ]
    }
   ],
   "source": [
    "askint()"
   ]
  },
  {
   "cell_type": "code",
   "execution_count": 16,
   "id": "5d74a366",
   "metadata": {},
   "outputs": [],
   "source": [
    "def askint():\n",
    "    while True:\n",
    "        try :\n",
    "            val = int(input(\"please try to input int\"))\n",
    "            break\n",
    "        except:\n",
    "            print(\"looks like you have not entered an integer\")\n",
    "            continue"
   ]
  },
  {
   "cell_type": "code",
   "execution_count": 17,
   "id": "9c414215",
   "metadata": {},
   "outputs": [
    {
     "name": "stdout",
     "output_type": "stream",
     "text": [
      "please try to input intlsajflsjf\n",
      "looks like you have not entered an integer\n",
      "please try to input int465767676908879%$%^%\n",
      "looks like you have not entered an integer\n",
      "please try to input int2565\n"
     ]
    }
   ],
   "source": [
    "askint()"
   ]
  },
  {
   "cell_type": "code",
   "execution_count": null,
   "id": "872f6e02",
   "metadata": {},
   "outputs": [],
   "source": []
  }
 ],
 "metadata": {
  "kernelspec": {
   "display_name": "Python 3",
   "language": "python",
   "name": "python3"
  },
  "language_info": {
   "codemirror_mode": {
    "name": "ipython",
    "version": 3
   },
   "file_extension": ".py",
   "mimetype": "text/x-python",
   "name": "python",
   "nbconvert_exporter": "python",
   "pygments_lexer": "ipython3",
   "version": "3.8.8"
  }
 },
 "nbformat": 4,
 "nbformat_minor": 5
}
